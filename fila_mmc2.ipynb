{
  "nbformat": 4,
  "nbformat_minor": 0,
  "metadata": {
    "colab": {
      "provenance": []
    },
    "kernelspec": {
      "name": "python3",
      "display_name": "Python 3"
    },
    "language_info": {
      "name": "python"
    }
  },
  "cells": [
    {
      "cell_type": "code",
      "execution_count": 1,
      "metadata": {
        "colab": {
          "base_uri": "https://localhost:8080/"
        },
        "id": "csihuZhwL-F9",
        "outputId": "19a8db3e-2600-4280-8abc-f3faa951da82"
      },
      "outputs": [
        {
          "output_type": "stream",
          "name": "stdout",
          "text": [
            "Collecting simpy\n",
            "  Downloading simpy-4.1.1-py3-none-any.whl.metadata (6.1 kB)\n",
            "Downloading simpy-4.1.1-py3-none-any.whl (27 kB)\n",
            "Installing collected packages: simpy\n",
            "Successfully installed simpy-4.1.1\n"
          ]
        }
      ],
      "source": [
        "!pip install simpy"
      ]
    },
    {
      "cell_type": "code",
      "source": [
        "import simpy\n",
        "import random\n",
        "import numpy as np\n",
        "\n",
        "# Parâmetros do sistema\n",
        "LOGGER = False\n",
        "TAXA_CHEGADA = 0.5   # Taxa de chegada (λ)\n",
        "TAXA_SERVICO = 1.0   # Taxa de serviço (µ)\n",
        "NUM_SERVIDORES = 1   # Número de servidores\n",
        "TEMPO_SIMULACAO = 100000\n",
        "tempos_de_espera = []\n",
        "\n",
        "# Função para chegada de clientes\n",
        "def cliente(env, nome, servidor):\n",
        "    chegada = env.now\n",
        "\n",
        "    if LOGGER:\n",
        "      print(f'{nome} chegou em {chegada:.2f}')\n",
        "\n",
        "    # Cliente pede o servidor\n",
        "    with servidor.request() as req:\n",
        "        yield req  # Espera até ser atendido\n",
        "        inicio_servico = env.now\n",
        "\n",
        "        tempos_de_espera.append(inicio_servico - chegada) # Calcula o tempo de espera e guarda no array de tempos de espera\n",
        "\n",
        "        if LOGGER:\n",
        "          print(f'{nome} começou o atendimento em {inicio_servico:.2f}')\n",
        "\n",
        "        # Tempo de atendimento\n",
        "        tempo_atendimento = random.expovariate(TAXA_SERVICO)\n",
        "        yield env.timeout(tempo_atendimento)\n",
        "\n",
        "        fim_servico = env.now\n",
        "        if LOGGER:\n",
        "          print(f'{nome} terminou o atendimento em {fim_servico:.2f}')\n",
        "\n",
        "# Função para gerar chegadas\n",
        "def gerar_clientes(env, servidor):\n",
        "    contador = 0\n",
        "    while True:\n",
        "        yield env.timeout(random.expovariate(TAXA_CHEGADA))  # Tempo entre chegadas\n",
        "        contador += 1\n",
        "        env.process(cliente(env, f'Cliente {contador}', servidor))\n",
        "\n",
        "# Função principal\n",
        "def simular():\n",
        "    env = simpy.Environment()  # Ambiente de simulação\n",
        "    servidor = simpy.Resource(env, capacity=NUM_SERVIDORES)  # Servidor (com 1 atendente)\n",
        "    env.process(gerar_clientes(env, servidor))  # Inicia o processo de geração de clientes\n",
        "    env.run(until=TEMPO_SIMULACAO)  # Executa a simulação por X unidades de tempo\n",
        "\n",
        "    print(f'Tempo médio de espera (W): {np.mean(tempos_de_espera)}')\n",
        "    print(f'Variância do tempo médio de espera var(W): {np.var(tempos_de_espera)}')\n",
        "\n",
        "\n",
        "if __name__ == '__main__':\n",
        "    simular()"
      ],
      "metadata": {
        "colab": {
          "base_uri": "https://localhost:8080/"
        },
        "id": "tUjZu7I5MDtY",
        "outputId": "5574d9bf-fcd6-417b-c318-046665f26c1b"
      },
      "execution_count": 14,
      "outputs": [
        {
          "output_type": "stream",
          "name": "stdout",
          "text": [
            "Tempo médio de espera (W): 0.9858921568870023\n",
            "Variância do tempo médio de espera var(W): 2.8085855968988254\n"
          ]
        }
      ]
    }
  ]
}